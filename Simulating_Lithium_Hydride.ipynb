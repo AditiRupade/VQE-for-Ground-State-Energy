{
 "cells": [
  {
   "cell_type": "markdown",
   "metadata": {},
   "source": [
    "# VQE to find Ground State Energy of Lithium Hydride\n",
    "\n",
    "In this notebook, I have used Variational Quantum Eigensolver to find ground state energy of Hamiltonian"
   ]
  },
  {
   "cell_type": "code",
   "execution_count": 1,
   "metadata": {},
   "outputs": [],
   "source": [
    "import matplotlib.pyplot as plt\n",
    "import numpy as np"
   ]
  },
  {
   "cell_type": "code",
   "execution_count": null,
   "metadata": {
    "tags": []
   },
   "outputs": [],
   "source": [
    "from qiskit.algorithms.optimizers import COBYLA\n",
    "from qiskit.algorithms.minimum_eigensolvers import VQE, NumPyMinimumEigensolver, MinimumEigensolverResult\n",
    "from qiskit.primitives import Estimator\n",
    "\n",
    "from qiskit_nature import settings\n",
    "from qiskit_nature.second_q.circuit.library import HartreeFock, UCCSD\n",
    "from qiskit_nature.second_q.drivers import PySCFDriver\n",
    "from qiskit_nature.second_q.mappers import ParityMapper\n",
    "from qiskit_nature.second_q.transformers import ActiveSpaceTransformer\n",
    "\n",
    "settings.tensor_unwrapping = False\n",
    "settings.use_pauli_sum_op = False"
   ]
  },
  {
   "cell_type": "markdown",
   "metadata": {},
   "source": [
    "### Step 1- \n",
    "Creating lithium hydride molecule and building the electronic Hamiltonian"
   ]
  },
  {
   "cell_type": "code",
   "execution_count": 4,
   "metadata": {
    "tags": []
   },
   "outputs": [],
   "source": [
    "# Create molecule\n",
    "driver = PySCFDriver(atom='Li 0 0 0; H 0 0 1.3', basis='sto3g')\n",
    "\n",
    "# Get second quantized Hamiltonian\n",
    "problem = driver.run()\n",
    "hamiltonian = problem.hamiltonian.second_q_op()"
   ]
  },
  {
   "cell_type": "markdown",
   "metadata": {},
   "source": [
    "### Step 2-\n",
    "Map Hamiltonian to it's sum of Pauli string representation"
   ]
  },
  {
   "cell_type": "code",
   "execution_count": 5,
   "metadata": {
    "tags": []
   },
   "outputs": [],
   "source": [
    "# Map to qubit Hamiltonian\n",
    "qubit_mapper = ParityMapper(num_particles=problem.num_particles)\n",
    "qubit_hamiltonian = qubit_mapper.map(hamiltonian)"
   ]
  },
  {
   "cell_type": "code",
   "execution_count": 6,
   "metadata": {
    "tags": []
   },
   "outputs": [
    {
     "name": "stdout",
     "output_type": "stream",
     "text": [
      "10\n"
     ]
    }
   ],
   "source": [
    "print(qubit_hamiltonian.num_qubits)"
   ]
  },
  {
   "cell_type": "markdown",
   "metadata": {},
   "source": [
    "### Step 3-\n",
    "Reduce the problem size by using Qiskit Active Space Transformer which uses some techniques to select orbitals that we want for our problem."
   ]
  },
  {
   "cell_type": "code",
   "execution_count": null,
   "metadata": {
    "tags": []
   },
   "outputs": [],
   "source": [
    "# Activate space transformer\n",
    "active_space_transformer = ActiveSpaceTransformer(num_electrons=2, num_spatial_orbitals=3)\n",
    "as_problem = active_space_transformer.transform(problem)\n",
    "as_hamiltonian = qubit_mapper.map(as_problem.hamiltonian.second_q_op())"
   ]
  },
  {
   "cell_type": "code",
   "execution_count": 8,
   "metadata": {
    "tags": []
   },
   "outputs": [
    {
     "name": "stdout",
     "output_type": "stream",
     "text": [
      "4\n"
     ]
    }
   ],
   "source": [
    "print(as_hamiltonian.num_qubits)"
   ]
  },
  {
   "cell_type": "markdown",
   "metadata": {},
   "source": [
    "### Step 4-\n",
    "Here, we have used the defined molecule reduced after transformation to solve the problem. As this is small problem, it can be solved but some molecules are too large and difficult to map."
   ]
  },
  {
   "cell_type": "code",
   "execution_count": 9,
   "metadata": {
    "tags": []
   },
   "outputs": [],
   "source": [
    "exact_solver = NumPyMinimumEigensolver()\n",
    "exact_result = exact_solver.compute_minimum_eigenvalue(as_hamiltonian)\n",
    "exact_result = as_problem.interpret(exact_result)"
   ]
  },
  {
   "cell_type": "code",
   "execution_count": 10,
   "metadata": {
    "tags": []
   },
   "outputs": [
    {
     "name": "stdout",
     "output_type": "stream",
     "text": [
      "=== GROUND STATE ENERGY ===\n",
      " \n",
      "* Electronic ground state energy (Hartree): -8.919276114566\n",
      "  - computed part:      -0.970051701683\n",
      "  - ActiveSpaceTransformer extracted energy part: -7.949224412883\n",
      "~ Nuclear repulsion energy (Hartree): 1.221178179046\n",
      "> Total ground state energy (Hartree): -7.69809793552\n",
      " \n",
      "=== MEASURED OBSERVABLES ===\n",
      " \n",
      " \n",
      "=== DIPOLE MOMENTS ===\n",
      " \n",
      "~ Nuclear dipole moment (a.u.): [0.0  0.0  2.45664396]\n",
      " \n"
     ]
    }
   ],
   "source": [
    "print(exact_result)"
   ]
  },
  {
   "cell_type": "markdown",
   "metadata": {},
   "source": [
    "### Step 5-\n",
    "\n",
    "Next step is using VQE to solve the problem. First, initializing the VQE ansatz."
   ]
  },
  {
   "cell_type": "code",
   "execution_count": 11,
   "metadata": {
    "tags": []
   },
   "outputs": [],
   "source": [
    "# Setup ansatz\n",
    "initial_state = HartreeFock(\n",
    "    num_spatial_orbitals=as_problem.num_spatial_orbitals, \n",
    "    num_particles=as_problem.num_particles, \n",
    "    qubit_mapper=qubit_mapper)\n",
    "\n",
    "ansatz = UCCSD(\n",
    "    num_spatial_orbitals=as_problem.num_spatial_orbitals, \n",
    "    num_particles=as_problem.num_particles, \n",
    "    qubit_mapper=qubit_mapper, \n",
    "    initial_state=initial_state)"
   ]
  },
  {
   "cell_type": "markdown",
   "metadata": {},
   "source": [
    "### Step 6-\n",
    "Setting up the VQE Solver by using COBYLA optimizer."
   ]
  },
  {
   "cell_type": "code",
   "execution_count": 12,
   "metadata": {
    "tags": []
   },
   "outputs": [],
   "source": [
    "# Setup optimizer\n",
    "optimizer = COBYLA(maxiter=2500)\n",
    "\n",
    "energies = []\n",
    "def callback(nfev, x, fx, *args):\n",
    "    energies.append(fx)\n",
    "\n",
    "# Setup VQE\n",
    "estimator = Estimator()\n",
    "vqe_solver = VQE(estimator, ansatz, optimizer, callback=callback)"
   ]
  },
  {
   "cell_type": "markdown",
   "metadata": {},
   "source": [
    "### Step 7-\n",
    "Solving the problem by using the defined VQE solver."
   ]
  },
  {
   "cell_type": "code",
   "execution_count": 13,
   "metadata": {
    "tags": []
   },
   "outputs": [],
   "source": [
    "# Solve for the groundstate\n",
    "result = vqe_solver.compute_minimum_eigenvalue(as_hamiltonian)\n",
    "result = as_problem.interpret(result)"
   ]
  },
  {
   "cell_type": "code",
   "execution_count": 14,
   "metadata": {
    "tags": []
   },
   "outputs": [
    {
     "name": "stdout",
     "output_type": "stream",
     "text": [
      "=== GROUND STATE ENERGY ===\n",
      " \n",
      "* Electronic ground state energy (Hartree): -8.919276099036\n",
      "  - computed part:      -0.970051686153\n",
      "  - ActiveSpaceTransformer extracted energy part: -7.949224412883\n",
      "~ Nuclear repulsion energy (Hartree): 1.221178179046\n",
      "> Total ground state energy (Hartree): -7.69809791999\n",
      " \n",
      "=== MEASURED OBSERVABLES ===\n",
      " \n",
      " \n",
      "=== DIPOLE MOMENTS ===\n",
      " \n",
      "~ Nuclear dipole moment (a.u.): [0.0  0.0  2.45664396]\n",
      " \n"
     ]
    }
   ],
   "source": [
    "print(result)"
   ]
  },
  {
   "cell_type": "markdown",
   "metadata": {},
   "source": [
    "To visualize the energy evolution of VQE solver, we can map the energies against the steps run during optimization."
   ]
  },
  {
   "cell_type": "code",
   "execution_count": 15,
   "metadata": {
    "tags": []
   },
   "outputs": [],
   "source": [
    "vqe_energies = []\n",
    "\n",
    "for energy in energies:\n",
    "    result = MinimumEigensolverResult()\n",
    "    result.eigenvalue = energy\n",
    "    vqe_energies.append(as_problem.interpret(result).total_energies[0])"
   ]
  },
  {
   "cell_type": "code",
   "execution_count": 16,
   "metadata": {
    "tags": []
   },
   "outputs": [
    {
     "data": {
      "image/png": "[encoded data removed]",
      "text/plain": [
       "<Figure size 640x480 with 1 Axes>"
      ]
     },
     "metadata": {},
     "output_type": "display_data"
    }
   ],
   "source": [
    "plt.plot(vqe_energies, label='VQE')\n",
    "plt.axhline(exact_result.total_energies[0], color='red', linestyle='dashed', label='Exact')\n",
    "\n",
    "plt.ylabel('Energy [Ha]', fontsize=20)\n",
    "plt.xlabel('Optimization steps', fontsize=20)\n",
    "\n",
    "plt.tick_params(which='both', labelsize=14)\n",
    "plt.legend(fontsize=16)\n",
    "plt.tight_layout()"
   ]
  },
  {
   "cell_type": "markdown",
   "metadata": {},
   "source": [
    "This code is modification from a part of IBM's work on Quantum Natural Science."
   ]
  }
 ],
 "metadata": {
  "kernelspec": {
   "display_name": "Python 3",
   "language": "python",
   "name": "python3"
  },
  "language_info": {
   "codemirror_mode": {
    "name": "ipython",
    "version": 3
   },
   "file_extension": ".py",
   "mimetype": "text/x-python",
   "name": "python",
   "nbconvert_exporter": "python",
   "pygments_lexer": "ipython3",
   "version": "3.8.8"
  },
  "widgets": {
   "application/vnd.jupyter.widget-state+json": {
    "state": {},
    "version_major": 2,
    "version_minor": 0
   }
  }
 },
 "nbformat": 4,
 "nbformat_minor": 4
}
