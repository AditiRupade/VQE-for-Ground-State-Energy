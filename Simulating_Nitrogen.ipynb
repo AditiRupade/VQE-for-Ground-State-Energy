{
 "cells": [
  {
   "cell_type": "markdown",
   "id": "bb89b5e0",
   "metadata": {},
   "source": [
    "# VQE to find Ground State Energy of Nitrogen\n",
    "\n",
    "In this notebook, I have used Variational Quantum Eigensolver to find ground state energy of Hamiltonian"
   ]
  },
  {
   "cell_type": "code",
   "execution_count": 1,
   "id": "b74ccea8-7fc7-4cf3-a744-7dd5bd6e8ddb",
   "metadata": {
    "tags": []
   },
   "outputs": [],
   "source": [
    "import matplotlib.pyplot as plt\n",
    "import numpy as np"
   ]
  },
  {
   "cell_type": "code",
   "execution_count": null,
   "id": "704717be-baab-45ca-80dc-01914db415a4",
   "metadata": {
    "tags": []
   },
   "outputs": [],
   "source": [
    "from qiskit.algorithms.optimizers import COBYLA\n",
    "from qiskit.algorithms.minimum_eigensolvers import VQE, NumPyMinimumEigensolver, MinimumEigensolverResult\n",
    "from qiskit.primitives import Estimator\n",
    "\n",
    "from qiskit_nature import settings\n",
    "from qiskit_nature.second_q.circuit.library import HartreeFock, UCCSD\n",
    "from qiskit_nature.second_q.drivers import PySCFDriver\n",
    "from qiskit_nature.second_q.mappers import ParityMapper\n",
    "from qiskit_nature.second_q.transformers import ActiveSpaceTransformer\n",
    "\n",
    "settings.tensor_unwrapping = False\n",
    "settings.use_pauli_sum_op = False"
   ]
  },
  {
   "cell_type": "markdown",
   "id": "927a5a3b",
   "metadata": {},
   "source": [
    "### Step 1- \n",
    "Creating nitrogen molecule and building the electronic Hamiltonian"
   ]
  },
  {
   "cell_type": "code",
   "execution_count": 6,
   "id": "cb995bce-2973-4cea-95d3-126caa60fe9b",
   "metadata": {
    "tags": []
   },
   "outputs": [
    {
     "name": "stdout",
     "output_type": "stream",
     "text": [
      "(7, 7) 28\n"
     ]
    }
   ],
   "source": [
    "# Create molecule\n",
    "driver = PySCFDriver(atom='N 0.0 0.0 0.0; N 0.0 0.0 1.1', basis='6-31g*')\n",
    "\n",
    "# Get second quantized Hamiltonian\n",
    "problem = driver.run()\n",
    "qubit_mapper = ParityMapper(num_particles=problem.num_particles)\n",
    "print(problem.num_particles, problem.num_spatial_orbitals)"
   ]
  },
  {
   "cell_type": "markdown",
   "id": "c3e8b5b3",
   "metadata": {},
   "source": [
    "### Step 2-\n",
    "As can be seen, this is a large molecult and it is very difficult to map it to a quantum computer, so first we have to resuce this molecule. Reduce the problem size by using Qiskit Active Space Transformer which uses some techniques to select orbitals that we want for our problem."
   ]
  },
  {
   "cell_type": "code",
   "execution_count": 7,
   "id": "f5bd87be-a985-4391-85cf-0c5743ac8814",
   "metadata": {
    "tags": []
   },
   "outputs": [
    {
     "name": "stdout",
     "output_type": "stream",
     "text": [
      "(2, 2) 4\n"
     ]
    }
   ],
   "source": [
    "# Activate space transformer\n",
    "active_space_transformer = ActiveSpaceTransformer(4, 4)\n",
    "as_problem = active_space_transformer.transform(problem)\n",
    "print(as_problem.num_particles, as_problem.num_spatial_orbitals)"
   ]
  },
  {
   "cell_type": "code",
   "execution_count": 8,
   "id": "b5a04217-9f74-4d60-abd3-bd907044da59",
   "metadata": {
    "tags": []
   },
   "outputs": [
    {
     "name": "stdout",
     "output_type": "stream",
     "text": [
      "6\n"
     ]
    }
   ],
   "source": [
    "as_hamiltonian = qubit_mapper.map(as_problem.hamiltonian.second_q_op())\n",
    "print(as_hamiltonian.num_qubits)"
   ]
  },
  {
   "cell_type": "markdown",
   "id": "11cd907f",
   "metadata": {},
   "source": [
    "### Step 3-\n",
    "Here, we have used the defined molecule reduced after transformation to solve the problem."
   ]
  },
  {
   "cell_type": "code",
   "execution_count": 9,
   "id": "ec38c08c-d75c-43af-bb86-b015e2c199a4",
   "metadata": {
    "tags": []
   },
   "outputs": [],
   "source": [
    "exact_solver = NumPyMinimumEigensolver()\n",
    "exact_result = exact_solver.compute_minimum_eigenvalue(as_hamiltonian)\n",
    "exact_result = as_problem.interpret(exact_result)"
   ]
  },
  {
   "cell_type": "code",
   "execution_count": 10,
   "id": "f839b271-a2f5-4d01-9f73-bf14e4ecc68c",
   "metadata": {
    "tags": []
   },
   "outputs": [
    {
     "name": "stdout",
     "output_type": "stream",
     "text": [
      "=== GROUND STATE ENERGY ===\n",
      " \n",
      "* Electronic ground state energy (Hartree): -132.281418022238\n",
      "  - computed part:      -5.425594688511\n",
      "  - ActiveSpaceTransformer extracted energy part: -126.855823333727\n",
      "~ Nuclear repulsion energy (Hartree): 23.572439395527\n",
      "> Total ground state energy (Hartree): -108.708978626711\n",
      " \n",
      "=== MEASURED OBSERVABLES ===\n",
      " \n",
      " \n",
      "=== DIPOLE MOMENTS ===\n",
      " \n",
      "~ Nuclear dipole moment (a.u.): [0.0  0.0  14.55089116]\n",
      " \n"
     ]
    }
   ],
   "source": [
    "print(exact_result)"
   ]
  },
  {
   "cell_type": "markdown",
   "id": "2bf7f12e",
   "metadata": {},
   "source": [
    "### Step 4-\n",
    "\n",
    "Next step is using VQE to solve the problem. First, initializing the VQE ansatz."
   ]
  },
  {
   "cell_type": "code",
   "execution_count": 11,
   "id": "325e3ef6-4e12-45ee-9a39-c676b798cfec",
   "metadata": {
    "tags": []
   },
   "outputs": [],
   "source": [
    "# Setup ansatz\n",
    "initial_state = HartreeFock(\n",
    "    num_spatial_orbitals=as_problem.num_spatial_orbitals, \n",
    "    num_particles=as_problem.num_particles, \n",
    "    qubit_mapper=qubit_mapper)\n",
    "\n",
    "ansatz = UCCSD(\n",
    "    num_spatial_orbitals=as_problem.num_spatial_orbitals, \n",
    "    num_particles=as_problem.num_particles, \n",
    "    qubit_mapper=qubit_mapper, \n",
    "    initial_state=initial_state)"
   ]
  },
  {
   "cell_type": "markdown",
   "id": "57834180",
   "metadata": {},
   "source": [
    "### Step 5-\n",
    "Setting up the VQE Solver by using COBYLA optimizer."
   ]
  },
  {
   "cell_type": "code",
   "execution_count": 17,
   "id": "bc88aa16-56bf-4124-8606-77e926ef8ade",
   "metadata": {
    "tags": []
   },
   "outputs": [],
   "source": [
    "# Setup optimizer\n",
    "optimizer = COBYLA(maxiter=2000)\n",
    "\n",
    "energies = []\n",
    "def callback(nfev, x, fx, *args):\n",
    "    energies.append(fx)\n",
    "\n",
    "# Setup VQE\n",
    "estimator = Estimator()\n",
    "vqe_solver = VQE(estimator, ansatz, optimizer, callback=callback)"
   ]
  },
  {
   "cell_type": "markdown",
   "id": "3e807eb5",
   "metadata": {},
   "source": [
    "### Step 6-\n",
    "Solving the problem by using the defined VQE solver."
   ]
  },
  {
   "cell_type": "code",
   "execution_count": 18,
   "id": "ea21bd6b-f3e0-41d4-a731-29abf11fa0e7",
   "metadata": {
    "tags": []
   },
   "outputs": [],
   "source": [
    "# Solve for the groundstate\n",
    "result = vqe_solver.compute_minimum_eigenvalue(as_hamiltonian)\n",
    "result = as_problem.interpret(result)"
   ]
  },
  {
   "cell_type": "code",
   "execution_count": 19,
   "id": "e44f2582-56a6-44d3-aa9a-2011f2d3d183",
   "metadata": {},
   "outputs": [
    {
     "name": "stdout",
     "output_type": "stream",
     "text": [
      "=== GROUND STATE ENERGY ===\n",
      " \n",
      "* Electronic ground state energy (Hartree): -132.28141654086\n",
      "  - computed part:      -5.425593207133\n",
      "  - ActiveSpaceTransformer extracted energy part: -126.855823333727\n",
      "~ Nuclear repulsion energy (Hartree): 23.572439395527\n",
      "> Total ground state energy (Hartree): -108.708977145333\n",
      " \n",
      "=== MEASURED OBSERVABLES ===\n",
      " \n",
      " \n",
      "=== DIPOLE MOMENTS ===\n",
      " \n",
      "~ Nuclear dipole moment (a.u.): [0.0  0.0  14.55089116]\n",
      " \n"
     ]
    }
   ],
   "source": [
    "print(result)"
   ]
  },
  {
   "cell_type": "markdown",
   "id": "338c5ae9",
   "metadata": {},
   "source": [
    "To visualize the energy evolution of VQE solver, we can map the energies against the steps run during optimization."
   ]
  },
  {
   "cell_type": "code",
   "execution_count": 20,
   "id": "333e983b-6a0e-41e1-bdb1-ed3d240a6dca",
   "metadata": {},
   "outputs": [],
   "source": [
    "vqe_energies = []\n",
    "\n",
    "for energy in energies:\n",
    "    result = MinimumEigensolverResult()\n",
    "    result.eigenvalue = energy\n",
    "    vqe_energies.append(as_problem.interpret(result).total_energies[0])"
   ]
  },
  {
   "cell_type": "code",
   "execution_count": 21,
   "id": "7c8612df-fce0-4ddc-8c49-4897ec6382b5",
   "metadata": {},
   "outputs": [
    {
     "data": {
      "image/png": "[encoded data removed]",
      "text/plain": [
       "<Figure size 640x480 with 1 Axes>"
      ]
     },
     "metadata": {},
     "output_type": "display_data"
    }
   ],
   "source": [
    "plt.plot(vqe_energies, label='VQE')\n",
    "plt.axhline(exact_result.total_energies[0], color='red', linestyle='dashed', label='Exact')\n",
    "\n",
    "plt.ylabel('Energy [Ha]', fontsize=20)\n",
    "plt.xlabel('Optimization steps', fontsize=20)\n",
    "\n",
    "plt.tick_params(which='both', labelsize=14)\n",
    "plt.legend(fontsize=16)\n",
    "plt.tight_layout()"
   ]
  },
  {
   "cell_type": "markdown",
   "id": "286f3fe2",
   "metadata": {},
   "source": [
    "This code is modification from a part of IBM's work on Quantum Natural Science."
   ]
  }
 ],
 "metadata": {
  "kernelspec": {
   "display_name": "Python 3",
   "language": "python",
   "name": "python3"
  },
  "language_info": {
   "codemirror_mode": {
    "name": "ipython",
    "version": 3
   },
   "file_extension": ".py",
   "mimetype": "text/x-python",
   "name": "python",
   "nbconvert_exporter": "python",
   "pygments_lexer": "ipython3",
   "version": "3.8.8"
  },
  "widgets": {
   "application/vnd.jupyter.widget-state+json": {
    "state": {},
    "version_major": 2,
    "version_minor": 0
   }
  }
 },
 "nbformat": 4,
 "nbformat_minor": 5
}
